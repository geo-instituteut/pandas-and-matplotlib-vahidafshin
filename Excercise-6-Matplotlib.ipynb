{
 "cells": [
  {
   "cell_type": "markdown",
   "id": "18aba37c",
   "metadata": {},
   "source": [
    "## Problem 1: A scatter plot of random points \n",
    "\n",
    "The aim of this task is to create a simple scatter plot using random input values and random colors!\n",
    "Finally, you will save the plot as `.png` file that should look something like this: \n",
    " \n",
    "![Example figure](img/problem1_example.png)\n",
    " \n",
    "Remember to also commit the image file into your GitHub repo!\n",
    "\n",
    "**Note**: Your colors may look different than those in the image above depending on the colormap you are using!\n",
    "\n",
    "\n",
    "### Scores for this problem\n",
    "\n",
    "**Your score on this problem will be based on following criteria:**\n",
    "\n",
    "- Creating a DataFrame containing 1000 x, y, and color values\n",
    "- Creating a scatter plot of these points as instructed\n",
    "- Adding a title and axis labels to the plot\n",
    "- Saving a copy of the plot as a PNG file and commiting it to your repo\n",
    "- Including comments that explain what most lines in the code do"
   ]
  },
  {
   "cell_type": "markdown",
   "id": "2c48f83e",
   "metadata": {},
   "source": [
    "### Part 1 \n",
    "\n",
    "Create a new DataFrame called `data` and add 1000 random numbers (of type `float`) into a new column `x` and another 1000 random numbers into a new column `y`."
   ]
  },
  {
   "cell_type": "code",
   "execution_count": null,
   "id": "487cf0ce",
   "metadata": {},
   "outputs": [],
   "source": [
    "import numpy as np\n",
    "import pandas as pd\n",
    "\n",
    "# YOUR CODE HERE"
   ]
  },
  {
   "cell_type": "code",
   "execution_count": null,
   "id": "b8743f12",
   "metadata": {},
   "outputs": [],
   "source": [
    "# Check your random values\n",
    "print(data.head())\n",
    "\n",
    "# Check that you have the correct number of rows\n",
    "assert len(data) == 1000, \"There should be 1000 rows of data.\""
   ]
  },
  {
   "cell_type": "markdown",
   "id": "2f836f5b",
   "metadata": {},
   "source": [
    "### Part 2 \n",
    "\n",
    "Create a variable `colors` in which you should store 1000 random values for the colors so that we get a little sweeter looking plot.\n",
    "\n",
    "The variable `colors` should be an array of random numbers, not a DataFrame column."
   ]
  },
  {
   "cell_type": "code",
   "execution_count": null,
   "id": "5d9bb967",
   "metadata": {},
   "outputs": [],
   "source": [
    "# YOUR CODE HERE"
   ]
  },
  {
   "cell_type": "code",
   "execution_count": null,
   "id": "5438bfcd",
   "metadata": {},
   "outputs": [],
   "source": [
    " This test print should print out 10 first numbers in the variable colors\n",
    "print(colors[0:10])\n",
    "\n",
    "# Check that the length matches\n",
    "assert len(colors) == 1000, \"There should be 1000 random numbers for colors\""
   ]
  },
  {
   "cell_type": "markdown",
   "id": "51f2a97d",
   "metadata": {},
   "source": [
    "### Part 3\n",
    "\n",
    "#### Part 3.1\n",
    "\n",
    "Create a scatter plot of points with random colors.\n",
    "\n",
    "Make the scatter plot using `DataFrame.plot()` with the following options:\n",
    "\n",
    "- set the type of the plot using parameter `kind=scatter` (or use `DataFrame.plot.scatter()`)\n",
    "- modify the size of a point using the parameter `s` (the example plot uses `s=100`)\n",
    "- set the random colors for the points using the parameter `c`\n",
    "- set the color scheme using the parameter `colormap`\n",
    "    - The example image uses the `'rainbow'` colormap\n",
    "    - you can also choose another color map from here: https://matplotlib.org/stable/tutorials/colors/colormaps.html\n",
    "    - you can add a black outline around the points using the parameter `edgecolors`. The example uses `edgecolors='black'`.\n",
    "\n",
    "#### Part 3.2\n",
    "\n",
    "Add a title, x-label and y-label to your plot as shown in the example figure.\n",
    "\n",
    "- create the variables `title`, `xlabel` and `ylabel` and store the title and axis label text in them\n",
    "- use the pandas plotting parameters or `matplotlib.pyplot` methods to add the title and axis labels to the figure\n",
    "\n",
    "**Feel free to change the colors and markers in the plot :)**\n",
    "\n",
    "#### Part 3.3\n",
    "\n",
    "Create a variable `outputfp` with the output filename `my_first_plot.png` and save your plot as a PNG file (**Note**: you have to save the file in the same code cell where you do the plotting). "
   ]
  },
  {
   "cell_type": "code",
   "execution_count": null,
   "id": "ee8faa42",
   "metadata": {},
   "outputs": [],
   "source": [
    "# Plot the scatter plot\n",
    "# YOUR CODE HERE\n",
    "\n",
    "\n",
    "# Add labels and title (if not done above when creating the plot)\n",
    "# YOUR CODE HERE\n",
    "\n",
    "\n",
    "# Save the plot as a png file:\n",
    "outputfp = None\n",
    "\n",
    "# YOUR CODE HERE\n",
    "\n",
    "\n",
    "# This test print statement should print the output filename of your figure\n",
    "print(f\"Saved my first plot as {outputfp}\")"
   ]
  },
  {
   "cell_type": "code",
   "execution_count": null,
   "id": "2a58b31f",
   "metadata": {},
   "outputs": [],
   "source": [
    "# Check that the file exists (you can also open the file to check that everything looks ok!)\n",
    "import os\n",
    "\n",
    "assert os.path.exists(outputfp), \"Cannot find the output image!\""
   ]
  },
  {
   "cell_type": "markdown",
   "id": "7b405b7f",
   "metadata": {},
   "source": [
    "## Problem 2 - Plotting temperatures \n",
    "\n",
    "In this problem we will  plot monthly mean temperatures from the Helsinki-Vantaa airpot for the past 30 years.\n",
    "\n",
    "The final output should look like this:\n",
    "![line plot](img/temp_line_plot.png)\n",
    "\n",
    "## Input data\n",
    "\n",
    "The file `data/helsinki-vantaa.csv` contains monthly average temperatures from the Helsinki Vantaa airport.\n",
    "\n",
    "Column descriptions:\n",
    "\n",
    "- `DATE`: YEAR-MONTH-DAY (the time stamp contains the first day of each month, but values in other columns are average values for the whole month!)\n",
    "- `USAF`: Station number\n",
    "- `TEMP_F`: Monthly mean temperature in Fahrenheit \n",
    "- `TEMP_C`: Monthly mean temperature in Celsius\n",
    "- `REF_TEMP_C`: Long term average in Celsius (for the period 1988-2018)\n",
    "- `DIFF_C`: Difference between monthly mean and long term average in Celsius\n",
    "\n",
    "\n",
    "\n",
    "### Scores for this problem\n",
    "\n",
    "**Your score on this problem will be based on following criteria:**\n",
    "\n",
    "- Loading the data file and using the dates as the index\n",
    "- Selecting the data for the 30-year period as described\n",
    "- Creating a line plot of the data with the specified format\n",
    "- Adding a title and axis labels to the plot\n",
    "- Saving a copy of the plot as a PNG file and commiting it to your repo\n",
    "- Including comments that explain what most lines in the code do"
   ]
  },
  {
   "cell_type": "markdown",
   "id": "7808344a",
   "metadata": {},
   "source": [
    "### Part 1 \n",
    "\n",
    "Load the Helsinki temperature data from the file `data/helsinki-vantaa.csv`.\n",
    "\n",
    "- Read the data into a variable called `data` using pandas\n",
    "- Parse the dates from the column `'DATE'` and set the dates as the index in the DataFrame "
   ]
  },
  {
   "cell_type": "code",
   "execution_count": null,
   "id": "6109dfda",
   "metadata": {},
   "outputs": [],
   "source": [
    "# YOUR CODE HERE"
   ]
  },
  {
   "cell_type": "code",
   "execution_count": null,
   "id": "50d0107c",
   "metadata": {},
   "outputs": [],
   "source": [
    "# This test print should print first five rows\n",
    "print(data.head())"
   ]
  },
  {
   "cell_type": "code",
   "execution_count": null,
   "id": "14a8abc4",
   "metadata": {},
   "outputs": [],
   "source": [
    "# Check the number of rows in the data frame\n",
    "print(len(data))"
   ]
  },
  {
   "cell_type": "markdown",
   "id": "762d60e0",
   "metadata": {},
   "source": [
    "### Part 2 \n",
    "\n",
    "Select data for the 30-year period (January 1988 to December 2018).\n",
    "\n",
    "- Store the selection in a new variable `selection`"
   ]
  },
  {
   "cell_type": "code",
   "execution_count": null,
   "id": "480e1a60",
   "metadata": {},
   "outputs": [],
   "source": [
    "# YOUR CODE HERE"
   ]
  },
  {
   "cell_type": "code",
   "execution_count": null,
   "id": "ed04409a",
   "metadata": {},
   "outputs": [],
   "source": [
    "# Check that the data was read in correctly:\n",
    "selection.head()"
   ]
  },
  {
   "cell_type": "code",
   "execution_count": null,
   "id": "92967544",
   "metadata": {},
   "outputs": [],
   "source": [
    "# Check how many rows of data you selected:\n",
    "print(f'Number of rows: {len(selection)}')"
   ]
  },
  {
   "cell_type": "markdown",
   "id": "13121f5b",
   "metadata": {},
   "source": [
    "### Part 3 \n",
    "\n",
    "#### Part 3.1\n",
    "\n",
    "Create a line plot that displays the temperatures (`TEMP_C`) for each month in the 30-year time period with the following format:\n",
    "     \n",
    "- Set the figure size\n",
    "\n",
    "    - Create a figure object and use the `figsize` parameter. \n",
    "    - The example figure uses `figsize=(14,6)` (you can experiment with other figure sizes if you like!)\n",
    "\n",
    "- Adjust the line style\n",
    "\n",
    "    - solid line \n",
    "    - black color\n",
    "    - round markers\n",
    "     \n",
    "- Add a title and axis labels\n",
    "\n",
    "    - Title: `'Helsinki-Vantaa Airport'` \n",
    "    - X-label: `'Time'`\n",
    "    - Y-label: `'Temperature (Celsius)'`\n",
    "\n",
    "#### Part 3.2\n",
    "\n",
    "Save your figure as PNG file called `temp_line_plot.png`."
   ]
  },
  {
   "cell_type": "code",
   "execution_count": null,
   "id": "3783741a",
   "metadata": {},
   "outputs": [],
   "source": [
    "# YOUR CODE HERE\n",
    "\n",
    "\n",
    "# Set output file name\n",
    "outputfp = None\n",
    "\n",
    "# Save plot as image\n",
    "# YOUR CODE HERE\n"
   ]
  },
  {
   "cell_type": "code",
   "execution_count": null,
   "id": "9b350d56",
   "metadata": {},
   "outputs": [],
   "source": [
    "import os\n",
    "\n",
    "# Check that output file exists (you can also open the file and check that the plot looks ok!)\n",
    "os.path.exists(outputfp)"
   ]
  },
  {
   "cell_type": "code",
   "execution_count": null,
   "id": "fbddb6a8",
   "metadata": {},
   "outputs": [],
   "source": []
  }
 ],
 "metadata": {
  "kernelspec": {
   "display_name": "Python 3",
   "language": "python",
   "name": "python3"
  },
  "language_info": {
   "codemirror_mode": {
    "name": "ipython",
    "version": 3
   },
   "file_extension": ".py",
   "mimetype": "text/x-python",
   "name": "python",
   "nbconvert_exporter": "python",
   "pygments_lexer": "ipython3",
   "version": "3.9.11"
  },
  "latex_envs": {
   "LaTeX_envs_menu_present": true,
   "autoclose": false,
   "autocomplete": true,
   "bibliofile": "biblio.bib",
   "cite_by": "apalike",
   "current_citInitial": 1,
   "eqLabelWithNumbers": true,
   "eqNumInitial": 1,
   "hotkeys": {
    "equation": "Ctrl-E",
    "itemize": "Ctrl-I"
   },
   "labels_anchors": false,
   "latex_user_defs": false,
   "report_style_numbering": false,
   "user_envs_cfg": false
  }
 },
 "nbformat": 4,
 "nbformat_minor": 5
}
